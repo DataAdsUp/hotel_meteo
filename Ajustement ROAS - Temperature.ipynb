{
 "cells": [
  {
   "cell_type": "code",
   "execution_count": null,
   "id": "13a772ca",
   "metadata": {},
   "outputs": [],
   "source": [
    "from google.ads.google_ads.client import GoogleAdsClient\n",
    "\n",
    "def adjust_campaign_parameters(client, campaign_id, temperature):\n",
    "    # Récupération de la campagne\n",
    "    campaign_service = client.get_service(\"CampaignService\")\n",
    "    campaign = campaign_service.get_campaign(campaign_service.campaign_path(client.customer_id, campaign_id))\n",
    "\n",
    "    # Valeurs actuelles du ROAS et du budget\n",
    "    current_roas = campaign.target_roas\n",
    "    current_budget = campaign.campaign_budget\n",
    "\n",
    "    # Calcul des nouveaux paramètres en fonction de la température\n",
    "    if temperature < 15:\n",
    "        new_roas = current_roas * 1.2  # Augmentation de 20% si temps froid\n",
    "        new_budget = current_budget * 0.8  # Diminution de 20% si temps froid\n",
    "    elif 15 <= temperature < 25:\n",
    "        new_roas = current_roas  # Pas de changement pour temps tempéré\n",
    "        new_budget = current_budget  # Pas de changement pour temps tempéré\n",
    "    else:\n",
    "        new_roas = current_roas * 0.8  # Diminution de 20% si temps chaud\n",
    "        new_budget = current_budget * 1.2  # Augmentation de 20% si temps chaud\n",
    "\n",
    "    # Création de la requête pour mettre à jour la campagne\n",
    "    campaign_operation = client.get_type(\"CampaignOperation\")\n",
    "    campaign_to_update = campaign_operation.update\n",
    "    campaign_to_update.resource_name = campaign_service.campaign_path(client.customer_id, campaign_id)\n",
    "\n",
    "    # Mise à jour des paramètres de la campagne\n",
    "    campaign_to_update.target_roas = new_roas\n",
    "    campaign_to_update.campaign_budget = new_budget\n",
    "\n",
    "    # Envoi de la requête de mise à jour\n",
    "    response = campaign_service.mutate_campaigns(client.customer_id, [campaign_operation])\n",
    "    print(f\"Campagne mise à jour avec succès : {response.results[0].resource_name}\")\n",
    "\n",
    "# Simulation de la température actuelle\n",
    "current_temperature = random.randint(10, 35)  # Exemple de température entre 10 et 35 degrés\n",
    "print(f\"Température actuelle : {current_temperature}°C\")\n",
    "\n",
    "# Initialisation du client Google Ads\n",
    "client = GoogleAdsClient.load_from_storage(\"path/to/google-ads.yaml\")\n",
    "\n",
    "# ID de la campagne à ajuster\n",
    "campaign_id = \"INSERT_CAMPAIGN_ID\"\n",
    "\n",
    "# Ajustement des paramètres de la campagne\n",
    "adjust_campaign_parameters(client, campaign_id, current_temperature)\n"
   ]
  }
 ],
 "metadata": {
  "kernelspec": {
   "display_name": "Python 3 (ipykernel)",
   "language": "python",
   "name": "python3"
  },
  "language_info": {
   "codemirror_mode": {
    "name": "ipython",
    "version": 3
   },
   "file_extension": ".py",
   "mimetype": "text/x-python",
   "name": "python",
   "nbconvert_exporter": "python",
   "pygments_lexer": "ipython3",
   "version": "3.9.12"
  }
 },
 "nbformat": 4,
 "nbformat_minor": 5
}
